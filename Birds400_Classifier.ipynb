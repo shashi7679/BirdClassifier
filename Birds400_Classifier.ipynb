{
 "cells": [
  {
   "cell_type": "code",
   "execution_count": 3,
   "metadata": {
    "execution": {
     "iopub.execute_input": "2022-04-22T06:29:47.826303Z",
     "iopub.status.busy": "2022-04-22T06:29:47.825488Z",
     "iopub.status.idle": "2022-04-22T06:29:47.829691Z",
     "shell.execute_reply": "2022-04-22T06:29:47.829085Z",
     "shell.execute_reply.started": "2022-04-22T06:29:47.826272Z"
    }
   },
   "outputs": [
    {
     "name": "stdout",
     "output_type": "stream",
     "text": [
      "Hello\n"
     ]
    }
   ],
   "source": [
    "print(\"Hello\")"
   ]
  },
  {
   "cell_type": "code",
   "execution_count": 4,
   "metadata": {
    "colab": {
     "base_uri": "https://localhost:8080/"
    },
    "execution": {
     "iopub.execute_input": "2022-04-22T06:29:47.830974Z",
     "iopub.status.busy": "2022-04-22T06:29:47.830817Z",
     "iopub.status.idle": "2022-04-22T06:29:47.834010Z",
     "shell.execute_reply": "2022-04-22T06:29:47.833441Z",
     "shell.execute_reply.started": "2022-04-22T06:29:47.830952Z"
    },
    "id": "-tosHkqWMEH-",
    "outputId": "43f1b34a-c675-45b9-b8db-5ff2ba185c97"
   },
   "outputs": [],
   "source": [
    "zipfile_path = 'Birds400.zip'\n",
    "path_to_data = './data'"
   ]
  },
  {
   "cell_type": "code",
   "execution_count": null,
   "metadata": {
    "execution": {
     "iopub.execute_input": "2022-04-22T06:29:47.834895Z",
     "iopub.status.busy": "2022-04-22T06:29:47.834721Z"
    }
   },
   "outputs": [],
   "source": [
    "import zipfile\n",
    "with zipfile.ZipFile(zipfile_path, 'r') as zip_ref:\n",
    "    zip_ref.extractall(path_to_data)"
   ]
  },
  {
   "cell_type": "code",
   "execution_count": null,
   "metadata": {
    "id": "C2wQX1T1MaFg"
   },
   "outputs": [],
   "source": [
    "import os\n",
    "import numpy as np\n",
    "import torch\n",
    "import torch.nn as nn\n",
    "from torchvision.datasets import ImageFolder\n",
    "import matplotlib.pyplot as plt\n",
    "from torchvision.transforms import transforms\n",
    "import wandb\n",
    "from torch.utils.data import DataLoader,SubsetRandomSampler\n",
    "from torchvision.models import resnet18,resnet34,resnet50,resnet101,resnet152"
   ]
  },
  {
   "cell_type": "code",
   "execution_count": null,
   "metadata": {
    "id": "eQzgmwSSMc6S"
   },
   "outputs": [],
   "source": [
    "train_path = path_to_data + '/Birds400/train'\n",
    "test_path = path_to_data + '/Birds400/test'\n",
    "val_path = path_to_data + '/Birds400/valid'\n",
    "\n",
    "train_data = ImageFolder(train_path,transform=transforms.ToTensor())\n",
    "test_data = ImageFolder(test_path,transform=transforms.ToTensor())\n",
    "val_data = ImageFolder(val_path,transform=transforms.ToTensor())"
   ]
  },
  {
   "cell_type": "code",
   "execution_count": null,
   "metadata": {
    "colab": {
     "base_uri": "https://localhost:8080/"
    },
    "id": "2r-S7s5gPZbN",
    "outputId": "d8d9b855-4296-45af-e44f-404e36bab34c"
   },
   "outputs": [],
   "source": [
    "torch.backends.cudnn.benchmarks = True\n",
    "\n",
    "torch.backends.cudnn.deterministic = True\n",
    "\n",
    "wandb.login(key='46f2d6a5ffcc458fed2cca6cf446900f97e396e1')"
   ]
  },
  {
   "cell_type": "code",
   "execution_count": null,
   "metadata": {
    "id": "jpYKgd4wMhWB"
   },
   "outputs": [],
   "source": [
    "config=dict(\n",
    "IMAGE_SIZE = 128,\n",
    "BATCH_SIZE = 64,\n",
    "EPOCHS = 10,\n",
    "LEARNING_RATE = 3e-5,\n",
    "N_WORKER = 4,\n",
    "PIN_MEMORY = True,\n",
    "Model='ResNet50',\n",
    "saved_path = './Birds400/saved'\n",
    ")"
   ]
  },
  {
   "cell_type": "code",
   "execution_count": null,
   "metadata": {
    "colab": {
     "base_uri": "https://localhost:8080/",
     "height": 69
    },
    "id": "qBCZ0O8QPhmD",
    "outputId": "5e4222a9-4ded-4805-c954-054dd829d060"
   },
   "outputs": [],
   "source": [
    "wandb.init(project='Bird_Classifier',config=config)\n",
    "config = wandb.config"
   ]
  },
  {
   "cell_type": "code",
   "execution_count": null,
   "metadata": {
    "id": "QRI0_aqOM8jk"
   },
   "outputs": [],
   "source": [
    "def Shuffler(n):\n",
    "    index = np.random.permutation(n)\n",
    "    return index"
   ]
  },
  {
   "cell_type": "code",
   "execution_count": null,
   "metadata": {
    "colab": {
     "base_uri": "https://localhost:8080/"
    },
    "id": "WF-aFjMsNGTl",
    "outputId": "336d0d35-bfa7-4ec6-b87e-b7eef0a5fb12"
   },
   "outputs": [],
   "source": [
    "train_indices = Shuffler(len(train_data))\n",
    "val_indices = Shuffler(len(val_data))\n",
    "print(\"Training Indices :- \",train_indices)\n",
    "print(\"Val Indices :- \",val_indices)"
   ]
  },
  {
   "cell_type": "code",
   "execution_count": null,
   "metadata": {
    "colab": {
     "base_uri": "https://localhost:8080/"
    },
    "id": "TAHbH5ATP-vI",
    "outputId": "7bbc728c-01b6-4f4a-b878-3ab38fbe071e"
   },
   "outputs": [],
   "source": [
    "train_sampler = SubsetRandomSampler(train_indices)\n",
    "val_sampler = SubsetRandomSampler(val_indices)\n",
    "\n",
    "train_loader = DataLoader(train_data,batch_size=config.BATCH_SIZE,sampler=train_sampler,num_workers=config.N_WORKER,pin_memory=config.PIN_MEMORY)\n",
    "val_loader = DataLoader(val_data,batch_size=config.BATCH_SIZE,sampler=val_sampler,num_workers=config.N_WORKER,pin_memory=config.PIN_MEMORY)"
   ]
  },
  {
   "cell_type": "code",
   "execution_count": null,
   "metadata": {
    "colab": {
     "base_uri": "https://localhost:8080/"
    },
    "id": "tEGFygOqRUI6",
    "outputId": "a7a8c40f-2b94-4ed9-ae69-197f591103cf"
   },
   "outputs": [],
   "source": [
    "if config.Model=='ResNet18':\n",
    "  Model = resnet18(pretrained=True)\n",
    "  num_filters = Model.fc.in_features\n",
    "  print(\"In Features :\",num_filters)\n",
    "  Model.fc = nn.Sequential(\n",
    "      nn.Linear(num_filters,400),\n",
    "      nn.LogSoftmax(dim=1)\n",
    "  )\n",
    "elif config.Model=='ResNet34':\n",
    "  Model = resnet34(pretrained=True)\n",
    "  num_filters = Model.fc.in_features\n",
    "  print(\"In Features :\",num_filters)\n",
    "  Model.fc = nn.Sequential(\n",
    "      nn.Linear(num_filters,400),\n",
    "      nn.LogSoftmax(dim=1)\n",
    "  )\n",
    "elif config.Model=='ResNet50':\n",
    "  Model = resnet50(pretrained=True)\n",
    "  num_filters = Model.fc.in_features\n",
    "  print(\"In Features :\",num_filters)\n",
    "  Model.fc = nn.Sequential(\n",
    "      nn.Linear(num_filters,400),\n",
    "      nn.LogSoftmax(dim=1)\n",
    "  )\n",
    "\n",
    "elif config.Model=='ResNet101':\n",
    "  Model = resnet101(pretrained=True)\n",
    "  num_filters = Model.fc.in_features\n",
    "  print(\"In Features :\",num_filters)\n",
    "  Model.fc = nn.Sequential(\n",
    "      nn.Linear(num_filters,400),\n",
    "      nn.LogSoftmax(dim=1)\n",
    "  )\n",
    "\n",
    "elif config.Model=='ResNet152':\n",
    "  Model = resnet152(pretrained=True)\n",
    "  num_filters = Model.fc.in_features\n",
    "  print(\"In Features :\",num_filters)\n",
    "  Model.fc = nn.Sequential(\n",
    "      nn.Linear(num_filters,400),\n",
    "      nn.LogSoftmax(dim=1)\n",
    "  )"
   ]
  },
  {
   "cell_type": "code",
   "execution_count": null,
   "metadata": {
    "id": "ac-C8kOUSaA_"
   },
   "outputs": [],
   "source": [
    "def train_log(epoch,train_loss,train_acc,test_acc,test_loss):\n",
    "    wandb.log({\"epoch\": epoch, \"train_loss\": train_loss, \"train_acc\":train_acc,\"test_loss\":test_loss,\"test_acc\":test_acc})"
   ]
  },
  {
   "cell_type": "code",
   "execution_count": null,
   "metadata": {
    "id": "Fw2usI07TLPq"
   },
   "outputs": [],
   "source": [
    "Model = Model.cuda()"
   ]
  },
  {
   "cell_type": "code",
   "execution_count": null,
   "metadata": {
    "id": "A4ndWIT7SyK2"
   },
   "outputs": [],
   "source": [
    "criterion = nn.CrossEntropyLoss()\n",
    "optimizer = torch.optim.Adam(Model.parameters(), lr=config.LEARNING_RATE)"
   ]
  },
  {
   "cell_type": "code",
   "execution_count": null,
   "metadata": {},
   "outputs": [],
   "source": [
    "def Save_Model(model_no,model):\n",
    "    model_script = torch.jit.script(Model)\n",
    "    saved_path = config.saved_path + '/' + config.Model + '_' + str(model_no) +'.pt'\n",
    "    model_script.save('ResNet18.pt')\n",
    "    shutil.move(\"ResNet18.pt\", saved_path)"
   ]
  },
  {
   "cell_type": "code",
   "execution_count": null,
   "metadata": {
    "colab": {
     "base_uri": "https://localhost:8080/"
    },
    "id": "5eZOuCPsSikE",
    "outputId": "16dd081a-11a9-486a-cc0d-a893d58f9188"
   },
   "outputs": [],
   "source": [
    "History = []\n",
    "for epoch in range(config.EPOCHS):\n",
    "    epoch_loss = 0\n",
    "    epoch_accuracy = 0\n",
    "    for data, label in train_loader:\n",
    "        data = data.cuda()\n",
    "        label = label.cuda()\n",
    "        output = Model(data)\n",
    "        #print(label.size(),output.size())\n",
    "        #print(output)\n",
    "        loss = criterion(output, label)\n",
    "        optimizer.zero_grad()\n",
    "        loss.backward()\n",
    "        optimizer.step()\n",
    "        acc = (output.argmax(dim=1) == label).float().mean()\n",
    "        epoch_accuracy += acc / len(train_loader)\n",
    "        epoch_loss += loss / len(train_loader)\n",
    "    with torch.no_grad():\n",
    "        epoch_val_accuracy = 0\n",
    "        epoch_val_loss = 0\n",
    "        for data, label in val_loader:\n",
    "            data = data.cuda()\n",
    "            label = label.cuda()\n",
    "            val_output = Model(data)\n",
    "            val_loss = criterion(val_output, label)\n",
    "            acc = (val_output.argmax(dim=1) == label).float().mean()\n",
    "            epoch_val_accuracy += acc / len(val_loader)\n",
    "            epoch_val_loss += val_loss / len(val_loader)\n",
    "    print(\n",
    "        f\"Epoch : {epoch+1} - loss : {epoch_loss:.4f} - acc: {epoch_accuracy:.4f} - val_loss : {epoch_val_loss:.4f} - val_acc: {epoch_val_accuracy:.4f}\\n\"\n",
    "    )\n",
    "    train_log(epoch,epoch_loss,epoch_accuracy,epoch_val_accuracy,epoch_val_loss)\n",
    "    Save_Model(epoch,Model)\n",
    "    history = {\n",
    "        'train_loss':epoch_loss,\n",
    "        'train_acc':epoch_accuracy,\n",
    "        'val_loss':epoch_val_loss,\n",
    "        'val_acc':epoch_val_accuracy\n",
    "    }\n",
    "    History.append(history)\n"
   ]
  },
  {
   "cell_type": "code",
   "execution_count": null,
   "metadata": {
    "id": "x3N5lhXZjzyP"
   },
   "outputs": [],
   "source": [
    "Save_Model('final',Model)"
   ]
  },
  {
   "cell_type": "code",
   "execution_count": null,
   "metadata": {
    "colab": {
     "base_uri": "https://localhost:8080/",
     "height": 573
    },
    "id": "W5RJH2-35RHr",
    "outputId": "fecf49a7-cd4a-405b-a2ed-f1483de2e621"
   },
   "outputs": [],
   "source": [
    "train_acc = []\n",
    "train_loss = []\n",
    "val_acc = []\n",
    "val_loss = []\n",
    "for i in range(config.EPOCHS):\n",
    "  temp1 = History[i]['train_acc'].to('cpu').detach().numpy()\n",
    "  temp2 = History[i]['train_loss'].to('cpu').detach().numpy()\n",
    "  temp3 = History[i]['val_acc'].to('cpu').detach().numpy()\n",
    "  temp4 = History[i]['val_loss'].to('cpu').detach().numpy()\n",
    "\n",
    "  train_acc.append(temp1)\n",
    "  train_loss.append(temp2)\n",
    "  val_acc.append(temp3)\n",
    "  val_loss.append(temp4)\n",
    "\n",
    "\n",
    "plt.plot(range(config.EPOCHS),train_acc,label='Train Acc')\n",
    "plt.plot(range(config.EPOCHS),val_acc,label='Val Acc')\n",
    "plt.legend()\n",
    "plt.xlabel('Epochs')\n",
    "plt.ylabel('Accuracy')\n",
    "plt.title(\"Training and Validation Accuracy\")\n",
    "plt.savefig(\"Training.png\")\n",
    "plt.show()\n",
    "\n",
    "\n",
    "plt.plot(range(config.EPOCHS),train_loss,label='Train Loss')\n",
    "plt.plot(range(config.EPOCHS),val_loss,label='Val Loss')\n",
    "plt.legend()\n",
    "plt.xlabel('Epochs')\n",
    "plt.ylabel('Loss')\n",
    "plt.title(\"Training and Validation Loss\")\n",
    "plt.savefig(\"Loss.png\")\n",
    "plt.show()"
   ]
  },
  {
   "cell_type": "code",
   "execution_count": null,
   "metadata": {
    "id": "s1Kf2UGV_vGB"
   },
   "outputs": [],
   "source": []
  }
 ],
 "metadata": {
  "accelerator": "GPU",
  "colab": {
   "collapsed_sections": [],
   "name": "Birds400_Classifier.ipynb",
   "provenance": []
  },
  "kernelspec": {
   "display_name": "Python 3 (ipykernel)",
   "language": "python",
   "name": "python3"
  },
  "language_info": {
   "codemirror_mode": {
    "name": "ipython",
    "version": 3
   },
   "file_extension": ".py",
   "mimetype": "text/x-python",
   "name": "python",
   "nbconvert_exporter": "python",
   "pygments_lexer": "ipython3",
   "version": "3.8.12"
  }
 },
 "nbformat": 4,
 "nbformat_minor": 4
}
